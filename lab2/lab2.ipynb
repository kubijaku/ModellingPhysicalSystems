{
  "cells": [
    {
      "cell_type": "markdown",
      "metadata": {
        "id": "TkfWNBglbRjI"
      },
      "source": [
        "# lab2 - implementation of advection proccess"
      ]
    },
    {
      "cell_type": "code",
      "execution_count": null,
      "metadata": {
        "colab": {
          "base_uri": "https://localhost:8080/"
        },
        "id": "KNU337115qDx",
        "outputId": "4039d96a-ca58-478d-ddf2-ff5f27c6ad75"
      },
      "outputs": [],
      "source": [
        "!pip install pint open-atmos-jupyter-utils"
      ]
    },
    {
      "cell_type": "markdown",
      "metadata": {
        "id": "HxLqmXG8bb8w"
      },
      "source": [
        "#### importing pint library and setting _si_ variable\n"
      ]
    },
    {
      "cell_type": "code",
      "execution_count": null,
      "metadata": {
        "id": "S2bKOsn-bLkV"
      },
      "outputs": [],
      "source": [
        "import pint\n",
        "si = pint.UnitRegistry()"
      ]
    },
    {
      "cell_type": "markdown",
      "metadata": {
        "id": "unlD3GuTzzNY"
      },
      "source": [
        "#### importing constants"
      ]
    },
    {
      "cell_type": "code",
      "execution_count": null,
      "metadata": {
        "id": "XpA7OK1QbORn"
      },
      "outputs": [],
      "source": [
        "from scipy import constants"
      ]
    },
    {
      "cell_type": "markdown",
      "metadata": {
        "id": "tpoYQcPU1d0S"
      },
      "source": [
        "#### Setting constants"
      ]
    },
    {
      "cell_type": "code",
      "execution_count": null,
      "metadata": {
        "id": "c3x-SLN41gQA"
      },
      "outputs": [],
      "source": [
        "# Mass of pollutant (or substance released)\n",
        "M = 1000 * si.kg\n",
        "# cross-selectional area for middle of baltic sea\n",
        "A = 10 *si.km *si.km\n",
        "pi = constants.pi"
      ]
    },
    {
      "cell_type": "markdown",
      "metadata": {
        "id": "_u1r5lw-_K34"
      },
      "source": [
        "based on [linik](https://dtrx.de/od/diff/) difusion coefficiance (for water in 25 celcius degrees) is about this value"
      ]
    },
    {
      "cell_type": "code",
      "execution_count": null,
      "metadata": {
        "id": "3ZbfXevd_XIf"
      },
      "outputs": [],
      "source": [
        "# Difusion coefficiance (for water in 25 celcius degrees it is about this value)\n",
        "D = 0.0020204 * si.mm * si.mm / si.s\n",
        "# D = 0.001 * si.m**2 / si.s\n",
        "# Advection velocity (flow speed) set as constant as average for baltic sea\n",
        "u = 0.05 * si.m / si.s"
      ]
    },
    {
      "cell_type": "code",
      "execution_count": null,
      "metadata": {
        "colab": {
          "base_uri": "https://localhost:8080/"
        },
        "id": "vTCoy66a2a9l",
        "outputId": "5e59f252-bf1a-4492-bf33-9ae264a8a605"
      },
      "outputs": [],
      "source": [
        "print(M)\n",
        "print(A)\n",
        "print(pi)\n",
        "print(D)\n",
        "print(u)"
      ]
    },
    {
      "cell_type": "code",
      "execution_count": null,
      "metadata": {
        "id": "pdjSLkmW2ldB"
      },
      "outputs": [],
      "source": [
        "def advection_formula(x, t1):\n",
        "  c = (M / A) * (1 / (2 * np.sqrt(np.pi * D))) * (x / np.power(t1, 1.5)) * np.exp(-((u * t1 - x) ** 2) / (4 * D * t1))\n",
        "  return c"
      ]
    },
    {
      "cell_type": "code",
      "execution_count": null,
      "metadata": {
        "id": "EEXGxZwwz2Nb"
      },
      "outputs": [],
      "source": [
        "import numpy as np\n",
        "x = np.linspace(0, 0.07, 1000) * si.m  # 3 cm to 7 cm"
      ]
    },
    {
      "cell_type": "code",
      "execution_count": null,
      "metadata": {
        "colab": {
          "base_uri": "https://localhost:8080/",
          "height": 482,
          "referenced_widgets": [
            "cdfc0b0a548b4676901d74a330e4cadf",
            "89233a4bd3544eafb086eb440d6cdc0e",
            "c68d1249c6a7405196e2a6ecb2a0f51d",
            "e86c2c8e8f2b48b0a0ebce2b05e845b2",
            "252d9a15a95141fdbbab12dd4a7eecdd",
            "ee97239a706f4d37abe7162e7827812e",
            "9fc32c2c4fdc454b98a002332230a528",
            "761d4908e25a44a3968963125c674170"
          ]
        },
        "id": "wYvxUNPRHFZY",
        "outputId": "21377787-4745-4428-c557-507f6dd92006"
      },
      "outputs": [],
      "source": [
        "from matplotlib import pyplot\n",
        "from open_atmos_jupyter_utils import show_plot\n",
        "\n",
        "si.setup_matplotlib()\n",
        "\n",
        "\n",
        "for t in [0.35, 0.7, 1.05, 1.3]:\n",
        "  t1 = t * si.s\n",
        "  pyplot.plot(x, advection_formula(x,t1), label = f\"advection {t}s\")\n",
        "\n",
        "pyplot.legend()\n",
        "show_plot()"
      ]
    },
    {
      "cell_type": "markdown",
      "metadata": {
        "id": "YecRXuaCMjE7"
      },
      "source": [
        "for better results and more interesting diagram we need to change difusion coefficiance"
      ]
    },
    {
      "cell_type": "code",
      "execution_count": null,
      "metadata": {
        "id": "Cv79xZaTM3Bw"
      },
      "outputs": [],
      "source": [
        "# Difusion coefficiance\n",
        "# D = 0.0020204 * si.mm * si.mm / si.s\n",
        "D = 10 * si.mm * si.mm / si.s"
      ]
    },
    {
      "cell_type": "code",
      "execution_count": null,
      "metadata": {
        "colab": {
          "base_uri": "https://localhost:8080/",
          "height": 482,
          "referenced_widgets": [
            "0c7640fe99214914bb41e5568333d853",
            "330475578df14f488f88b62daab9b297",
            "f89d23c37e024b6db08bf1ca13242982",
            "678e94a69da3443b8519039e757b799b",
            "bd53e12d90564dc7babe06540a2dadec",
            "c626b4bac61f4345a6a72465df50755c",
            "7bd2a6b5d17742b88201d5fd99c44aa2",
            "0d1bfb34a31c45978ac72cd3613f7c23"
          ]
        },
        "id": "U67BYzQ_M6MX",
        "outputId": "d7676133-0836-4366-a481-f7ea88daa852"
      },
      "outputs": [],
      "source": [
        "from matplotlib import pyplot\n",
        "from open_atmos_jupyter_utils import show_plot\n",
        "\n",
        "si.setup_matplotlib()\n",
        "\n",
        "\n",
        "for t in [0.35, 0.7, 1.05, 1.3]:\n",
        "  t1 = t * si.s\n",
        "  pyplot.plot(x, advection_formula(x,t1), label = f\"advection {t}s\")\n",
        "\n",
        "pyplot.legend()\n",
        "show_plot()\n"
      ]
    }
  ],
  "metadata": {
    "colab": {
      "provenance": []
    },
    "kernelspec": {
      "display_name": "Python 3",
      "name": "python3"
    },
    "language_info": {
      "name": "python"
    },
    "widgets": {
      "application/vnd.jupyter.widget-state+json": {
        "0c7640fe99214914bb41e5568333d853": {
          "model_module": "@jupyter-widgets/controls",
          "model_module_version": "1.5.0",
          "model_name": "HBoxModel",
          "state": {
            "_dom_classes": [],
            "_model_module": "@jupyter-widgets/controls",
            "_model_module_version": "1.5.0",
            "_model_name": "HBoxModel",
            "_view_count": null,
            "_view_module": "@jupyter-widgets/controls",
            "_view_module_version": "1.5.0",
            "_view_name": "HBoxView",
            "box_style": "",
            "children": [
              "IPY_MODEL_330475578df14f488f88b62daab9b297",
              "IPY_MODEL_f89d23c37e024b6db08bf1ca13242982"
            ],
            "layout": "IPY_MODEL_678e94a69da3443b8519039e757b799b"
          }
        },
        "0d1bfb34a31c45978ac72cd3613f7c23": {
          "model_module": "@jupyter-widgets/controls",
          "model_module_version": "1.5.0",
          "model_name": "ButtonStyleModel",
          "state": {
            "_model_module": "@jupyter-widgets/controls",
            "_model_module_version": "1.5.0",
            "_model_name": "ButtonStyleModel",
            "_view_count": null,
            "_view_module": "@jupyter-widgets/base",
            "_view_module_version": "1.2.0",
            "_view_name": "StyleView",
            "button_color": null,
            "font_weight": ""
          }
        },
        "252d9a15a95141fdbbab12dd4a7eecdd": {
          "model_module": "@jupyter-widgets/base",
          "model_module_version": "1.2.0",
          "model_name": "LayoutModel",
          "state": {
            "_model_module": "@jupyter-widgets/base",
            "_model_module_version": "1.2.0",
            "_model_name": "LayoutModel",
            "_view_count": null,
            "_view_module": "@jupyter-widgets/base",
            "_view_module_version": "1.2.0",
            "_view_name": "LayoutView",
            "align_content": null,
            "align_items": null,
            "align_self": null,
            "border": null,
            "bottom": null,
            "display": null,
            "flex": null,
            "flex_flow": null,
            "grid_area": null,
            "grid_auto_columns": null,
            "grid_auto_flow": null,
            "grid_auto_rows": null,
            "grid_column": null,
            "grid_gap": null,
            "grid_row": null,
            "grid_template_areas": null,
            "grid_template_columns": null,
            "grid_template_rows": null,
            "height": null,
            "justify_content": null,
            "justify_items": null,
            "left": null,
            "margin": null,
            "max_height": null,
            "max_width": null,
            "min_height": null,
            "min_width": null,
            "object_fit": null,
            "object_position": null,
            "order": null,
            "overflow": null,
            "overflow_x": null,
            "overflow_y": null,
            "padding": null,
            "right": null,
            "top": null,
            "visibility": null,
            "width": null
          }
        },
        "330475578df14f488f88b62daab9b297": {
          "model_module": "@jupyter-widgets/controls",
          "model_module_version": "1.5.0",
          "model_name": "ButtonModel",
          "state": {
            "_dom_classes": [],
            "_model_module": "@jupyter-widgets/controls",
            "_model_module_version": "1.5.0",
            "_model_name": "ButtonModel",
            "_view_count": null,
            "_view_module": "@jupyter-widgets/controls",
            "_view_module_version": "1.5.0",
            "_view_name": "ButtonView",
            "button_style": "",
            "description": "tmpxca1y6vg.pdf",
            "disabled": false,
            "icon": "",
            "layout": "IPY_MODEL_bd53e12d90564dc7babe06540a2dadec",
            "style": "IPY_MODEL_c626b4bac61f4345a6a72465df50755c",
            "tooltip": ""
          }
        },
        "678e94a69da3443b8519039e757b799b": {
          "model_module": "@jupyter-widgets/base",
          "model_module_version": "1.2.0",
          "model_name": "LayoutModel",
          "state": {
            "_model_module": "@jupyter-widgets/base",
            "_model_module_version": "1.2.0",
            "_model_name": "LayoutModel",
            "_view_count": null,
            "_view_module": "@jupyter-widgets/base",
            "_view_module_version": "1.2.0",
            "_view_name": "LayoutView",
            "align_content": null,
            "align_items": null,
            "align_self": null,
            "border": null,
            "bottom": null,
            "display": null,
            "flex": null,
            "flex_flow": null,
            "grid_area": null,
            "grid_auto_columns": null,
            "grid_auto_flow": null,
            "grid_auto_rows": null,
            "grid_column": null,
            "grid_gap": null,
            "grid_row": null,
            "grid_template_areas": null,
            "grid_template_columns": null,
            "grid_template_rows": null,
            "height": null,
            "justify_content": null,
            "justify_items": null,
            "left": null,
            "margin": null,
            "max_height": null,
            "max_width": null,
            "min_height": null,
            "min_width": null,
            "object_fit": null,
            "object_position": null,
            "order": null,
            "overflow": null,
            "overflow_x": null,
            "overflow_y": null,
            "padding": null,
            "right": null,
            "top": null,
            "visibility": null,
            "width": null
          }
        },
        "761d4908e25a44a3968963125c674170": {
          "model_module": "@jupyter-widgets/controls",
          "model_module_version": "1.5.0",
          "model_name": "ButtonStyleModel",
          "state": {
            "_model_module": "@jupyter-widgets/controls",
            "_model_module_version": "1.5.0",
            "_model_name": "ButtonStyleModel",
            "_view_count": null,
            "_view_module": "@jupyter-widgets/base",
            "_view_module_version": "1.2.0",
            "_view_name": "StyleView",
            "button_color": null,
            "font_weight": ""
          }
        },
        "7bd2a6b5d17742b88201d5fd99c44aa2": {
          "model_module": "@jupyter-widgets/base",
          "model_module_version": "1.2.0",
          "model_name": "LayoutModel",
          "state": {
            "_model_module": "@jupyter-widgets/base",
            "_model_module_version": "1.2.0",
            "_model_name": "LayoutModel",
            "_view_count": null,
            "_view_module": "@jupyter-widgets/base",
            "_view_module_version": "1.2.0",
            "_view_name": "LayoutView",
            "align_content": null,
            "align_items": null,
            "align_self": null,
            "border": null,
            "bottom": null,
            "display": null,
            "flex": null,
            "flex_flow": null,
            "grid_area": null,
            "grid_auto_columns": null,
            "grid_auto_flow": null,
            "grid_auto_rows": null,
            "grid_column": null,
            "grid_gap": null,
            "grid_row": null,
            "grid_template_areas": null,
            "grid_template_columns": null,
            "grid_template_rows": null,
            "height": null,
            "justify_content": null,
            "justify_items": null,
            "left": null,
            "margin": null,
            "max_height": null,
            "max_width": null,
            "min_height": null,
            "min_width": null,
            "object_fit": null,
            "object_position": null,
            "order": null,
            "overflow": null,
            "overflow_x": null,
            "overflow_y": null,
            "padding": null,
            "right": null,
            "top": null,
            "visibility": null,
            "width": null
          }
        },
        "89233a4bd3544eafb086eb440d6cdc0e": {
          "model_module": "@jupyter-widgets/controls",
          "model_module_version": "1.5.0",
          "model_name": "ButtonModel",
          "state": {
            "_dom_classes": [],
            "_model_module": "@jupyter-widgets/controls",
            "_model_module_version": "1.5.0",
            "_model_name": "ButtonModel",
            "_view_count": null,
            "_view_module": "@jupyter-widgets/controls",
            "_view_module_version": "1.5.0",
            "_view_name": "ButtonView",
            "button_style": "",
            "description": "tmpctc26scz.pdf",
            "disabled": false,
            "icon": "",
            "layout": "IPY_MODEL_252d9a15a95141fdbbab12dd4a7eecdd",
            "style": "IPY_MODEL_ee97239a706f4d37abe7162e7827812e",
            "tooltip": ""
          }
        },
        "9fc32c2c4fdc454b98a002332230a528": {
          "model_module": "@jupyter-widgets/base",
          "model_module_version": "1.2.0",
          "model_name": "LayoutModel",
          "state": {
            "_model_module": "@jupyter-widgets/base",
            "_model_module_version": "1.2.0",
            "_model_name": "LayoutModel",
            "_view_count": null,
            "_view_module": "@jupyter-widgets/base",
            "_view_module_version": "1.2.0",
            "_view_name": "LayoutView",
            "align_content": null,
            "align_items": null,
            "align_self": null,
            "border": null,
            "bottom": null,
            "display": null,
            "flex": null,
            "flex_flow": null,
            "grid_area": null,
            "grid_auto_columns": null,
            "grid_auto_flow": null,
            "grid_auto_rows": null,
            "grid_column": null,
            "grid_gap": null,
            "grid_row": null,
            "grid_template_areas": null,
            "grid_template_columns": null,
            "grid_template_rows": null,
            "height": null,
            "justify_content": null,
            "justify_items": null,
            "left": null,
            "margin": null,
            "max_height": null,
            "max_width": null,
            "min_height": null,
            "min_width": null,
            "object_fit": null,
            "object_position": null,
            "order": null,
            "overflow": null,
            "overflow_x": null,
            "overflow_y": null,
            "padding": null,
            "right": null,
            "top": null,
            "visibility": null,
            "width": null
          }
        },
        "bd53e12d90564dc7babe06540a2dadec": {
          "model_module": "@jupyter-widgets/base",
          "model_module_version": "1.2.0",
          "model_name": "LayoutModel",
          "state": {
            "_model_module": "@jupyter-widgets/base",
            "_model_module_version": "1.2.0",
            "_model_name": "LayoutModel",
            "_view_count": null,
            "_view_module": "@jupyter-widgets/base",
            "_view_module_version": "1.2.0",
            "_view_name": "LayoutView",
            "align_content": null,
            "align_items": null,
            "align_self": null,
            "border": null,
            "bottom": null,
            "display": null,
            "flex": null,
            "flex_flow": null,
            "grid_area": null,
            "grid_auto_columns": null,
            "grid_auto_flow": null,
            "grid_auto_rows": null,
            "grid_column": null,
            "grid_gap": null,
            "grid_row": null,
            "grid_template_areas": null,
            "grid_template_columns": null,
            "grid_template_rows": null,
            "height": null,
            "justify_content": null,
            "justify_items": null,
            "left": null,
            "margin": null,
            "max_height": null,
            "max_width": null,
            "min_height": null,
            "min_width": null,
            "object_fit": null,
            "object_position": null,
            "order": null,
            "overflow": null,
            "overflow_x": null,
            "overflow_y": null,
            "padding": null,
            "right": null,
            "top": null,
            "visibility": null,
            "width": null
          }
        },
        "c626b4bac61f4345a6a72465df50755c": {
          "model_module": "@jupyter-widgets/controls",
          "model_module_version": "1.5.0",
          "model_name": "ButtonStyleModel",
          "state": {
            "_model_module": "@jupyter-widgets/controls",
            "_model_module_version": "1.5.0",
            "_model_name": "ButtonStyleModel",
            "_view_count": null,
            "_view_module": "@jupyter-widgets/base",
            "_view_module_version": "1.2.0",
            "_view_name": "StyleView",
            "button_color": null,
            "font_weight": ""
          }
        },
        "c68d1249c6a7405196e2a6ecb2a0f51d": {
          "model_module": "@jupyter-widgets/controls",
          "model_module_version": "1.5.0",
          "model_name": "ButtonModel",
          "state": {
            "_dom_classes": [],
            "_model_module": "@jupyter-widgets/controls",
            "_model_module_version": "1.5.0",
            "_model_name": "ButtonModel",
            "_view_count": null,
            "_view_module": "@jupyter-widgets/controls",
            "_view_module_version": "1.5.0",
            "_view_name": "ButtonView",
            "button_style": "",
            "description": "tmpikyt2lym.svg",
            "disabled": false,
            "icon": "",
            "layout": "IPY_MODEL_9fc32c2c4fdc454b98a002332230a528",
            "style": "IPY_MODEL_761d4908e25a44a3968963125c674170",
            "tooltip": ""
          }
        },
        "cdfc0b0a548b4676901d74a330e4cadf": {
          "model_module": "@jupyter-widgets/controls",
          "model_module_version": "1.5.0",
          "model_name": "HBoxModel",
          "state": {
            "_dom_classes": [],
            "_model_module": "@jupyter-widgets/controls",
            "_model_module_version": "1.5.0",
            "_model_name": "HBoxModel",
            "_view_count": null,
            "_view_module": "@jupyter-widgets/controls",
            "_view_module_version": "1.5.0",
            "_view_name": "HBoxView",
            "box_style": "",
            "children": [
              "IPY_MODEL_89233a4bd3544eafb086eb440d6cdc0e",
              "IPY_MODEL_c68d1249c6a7405196e2a6ecb2a0f51d"
            ],
            "layout": "IPY_MODEL_e86c2c8e8f2b48b0a0ebce2b05e845b2"
          }
        },
        "e86c2c8e8f2b48b0a0ebce2b05e845b2": {
          "model_module": "@jupyter-widgets/base",
          "model_module_version": "1.2.0",
          "model_name": "LayoutModel",
          "state": {
            "_model_module": "@jupyter-widgets/base",
            "_model_module_version": "1.2.0",
            "_model_name": "LayoutModel",
            "_view_count": null,
            "_view_module": "@jupyter-widgets/base",
            "_view_module_version": "1.2.0",
            "_view_name": "LayoutView",
            "align_content": null,
            "align_items": null,
            "align_self": null,
            "border": null,
            "bottom": null,
            "display": null,
            "flex": null,
            "flex_flow": null,
            "grid_area": null,
            "grid_auto_columns": null,
            "grid_auto_flow": null,
            "grid_auto_rows": null,
            "grid_column": null,
            "grid_gap": null,
            "grid_row": null,
            "grid_template_areas": null,
            "grid_template_columns": null,
            "grid_template_rows": null,
            "height": null,
            "justify_content": null,
            "justify_items": null,
            "left": null,
            "margin": null,
            "max_height": null,
            "max_width": null,
            "min_height": null,
            "min_width": null,
            "object_fit": null,
            "object_position": null,
            "order": null,
            "overflow": null,
            "overflow_x": null,
            "overflow_y": null,
            "padding": null,
            "right": null,
            "top": null,
            "visibility": null,
            "width": null
          }
        },
        "ee97239a706f4d37abe7162e7827812e": {
          "model_module": "@jupyter-widgets/controls",
          "model_module_version": "1.5.0",
          "model_name": "ButtonStyleModel",
          "state": {
            "_model_module": "@jupyter-widgets/controls",
            "_model_module_version": "1.5.0",
            "_model_name": "ButtonStyleModel",
            "_view_count": null,
            "_view_module": "@jupyter-widgets/base",
            "_view_module_version": "1.2.0",
            "_view_name": "StyleView",
            "button_color": null,
            "font_weight": ""
          }
        },
        "f89d23c37e024b6db08bf1ca13242982": {
          "model_module": "@jupyter-widgets/controls",
          "model_module_version": "1.5.0",
          "model_name": "ButtonModel",
          "state": {
            "_dom_classes": [],
            "_model_module": "@jupyter-widgets/controls",
            "_model_module_version": "1.5.0",
            "_model_name": "ButtonModel",
            "_view_count": null,
            "_view_module": "@jupyter-widgets/controls",
            "_view_module_version": "1.5.0",
            "_view_name": "ButtonView",
            "button_style": "",
            "description": "tmpbh976gyg.svg",
            "disabled": false,
            "icon": "",
            "layout": "IPY_MODEL_7bd2a6b5d17742b88201d5fd99c44aa2",
            "style": "IPY_MODEL_0d1bfb34a31c45978ac72cd3613f7c23",
            "tooltip": ""
          }
        }
      }
    }
  },
  "nbformat": 4,
  "nbformat_minor": 0
}
