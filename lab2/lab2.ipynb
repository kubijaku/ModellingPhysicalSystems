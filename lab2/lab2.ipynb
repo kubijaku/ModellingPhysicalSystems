{
  "nbformat": 4,
  "nbformat_minor": 0,
  "metadata": {
    "colab": {
      "provenance": []
    },
    "kernelspec": {
      "name": "python3",
      "display_name": "Python 3"
    },
    "language_info": {
      "name": "python"
    }
  },
  "cells": [
    {
      "cell_type": "markdown",
      "source": [
        "# AGH Modelling of Physical Systems Lab 2 (2025 March 18th)\n",
        "Jakub Kubicki  (jakubkubicki@student.agh.edu.pl)\n",
        "\n",
        "## implementation of advection diffusion equation\n"
      ],
      "metadata": {
        "id": "TkfWNBglbRjI"
      }
    },
    {
      "cell_type": "code",
      "execution_count": null,
      "metadata": {
        "id": "KNU337115qDx"
      },
      "outputs": [],
      "source": [
        "!pip install pint open-atmos-jupyter-utils"
      ]
    },
    {
      "cell_type": "markdown",
      "source": [
        "#### importing pint library and setting _si_ variable\n"
      ],
      "metadata": {
        "id": "HxLqmXG8bb8w"
      }
    },
    {
      "cell_type": "code",
      "source": [
        "import pint\n",
        "si = pint.UnitRegistry()"
      ],
      "metadata": {
        "id": "S2bKOsn-bLkV"
      },
      "execution_count": null,
      "outputs": []
    },
    {
      "cell_type": "markdown",
      "source": [
        "#### importing constants"
      ],
      "metadata": {
        "id": "unlD3GuTzzNY"
      }
    },
    {
      "cell_type": "code",
      "source": [
        "from scipy import constants"
      ],
      "metadata": {
        "id": "XpA7OK1QbORn"
      },
      "execution_count": null,
      "outputs": []
    },
    {
      "cell_type": "markdown",
      "source": [
        "#### Setting constants"
      ],
      "metadata": {
        "id": "tpoYQcPU1d0S"
      }
    },
    {
      "cell_type": "code",
      "source": [
        "# Mass of pollutant (or substance released)\n",
        "M = 1000 * si.kg\n",
        "# cross-selectional area for middle of baltic sea\n",
        "A = 10 *si.km *si.km\n",
        "pi = constants.pi"
      ],
      "metadata": {
        "id": "c3x-SLN41gQA"
      },
      "execution_count": null,
      "outputs": []
    },
    {
      "cell_type": "markdown",
      "source": [
        "based on [linik](https://dtrx.de/od/diff/) difusion coefficient (for water in 25 celcius degrees) is about this value"
      ],
      "metadata": {
        "id": "_u1r5lw-_K34"
      }
    },
    {
      "cell_type": "code",
      "source": [
        "# Difusion coefficient (for water in 25 celcius degrees it is about 0.0020204 mm^2/s but for the purposes of the presentation it is set to be 20.204mm^2/s)\n",
        "D = 20.204 * si.mm * si.mm / si.s\n",
        "# Advection velocity (flow speed) set as constant as average for baltic sea\n",
        "u = 0.05 * si.m / si.s"
      ],
      "metadata": {
        "id": "3ZbfXevd_XIf"
      },
      "execution_count": null,
      "outputs": []
    },
    {
      "cell_type": "code",
      "source": [
        "print(M)\n",
        "print(A)\n",
        "print(pi)\n",
        "print(D)\n",
        "print(u)"
      ],
      "metadata": {
        "id": "vTCoy66a2a9l"
      },
      "execution_count": null,
      "outputs": []
    },
    {
      "cell_type": "markdown",
      "source": [
        "#### Implementation of formula"
      ],
      "metadata": {
        "id": "pcZZ4wrNFHVj"
      }
    },
    {
      "cell_type": "code",
      "source": [
        "def advection_diffusion_formula(x, t1):\n",
        "  c = (M / A) * (1 / (2 * np.sqrt(np.pi * D))) * (x / np.power(t1, 1.5)) * np.exp(-((u * t1 - x) ** 2) / (4 * D * t1))\n",
        "  return c"
      ],
      "metadata": {
        "id": "pdjSLkmW2ldB"
      },
      "execution_count": null,
      "outputs": []
    },
    {
      "cell_type": "code",
      "source": [
        "import numpy as np\n",
        "x = 0.03 * si.m\n",
        "t = np.linspace(0, 4, 2000) * si.s  # 0-5s"
      ],
      "metadata": {
        "id": "EEXGxZwwz2Nb"
      },
      "execution_count": null,
      "outputs": []
    },
    {
      "cell_type": "code",
      "source": [
        "from matplotlib import pyplot\n",
        "from open_atmos_jupyter_utils import show_plot\n",
        "\n",
        "si.setup_matplotlib()\n",
        "\n",
        "\n",
        "for x in np.linspace(0.01, 0.1, 3):\n",
        "  x1 = x * si.m\n",
        "  advection = advection_diffusion_formula(x1,t)\n",
        "  advection = advection.to_base_units()\n",
        "  pyplot.plot(t, advection, label = f\"advection {x:.2g}m\")\n",
        "\n",
        "\n",
        "pyplot.legend()\n",
        "show_plot()"
      ],
      "metadata": {
        "id": "wYvxUNPRHFZY"
      },
      "execution_count": null,
      "outputs": []
    },
    {
      "cell_type": "markdown",
      "source": [
        "### The diagram shows analytical concentration profiles from advection-diffusion solution for diffrent distances in time. The plume moves forward with flow velocity and spreads due to diffusion."
      ],
      "metadata": {
        "id": "YecRXuaCMjE7"
      }
    }
  ]
}