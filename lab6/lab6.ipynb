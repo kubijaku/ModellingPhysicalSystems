{
  "cells": [
    {
      "cell_type": "markdown",
      "metadata": {
        "id": "laG_WpXY3GkW"
      },
      "source": [
        "# AGH Modelling of Physical Systems Lab 6 (2025 April 8th)\n",
        "Sylwester Arabas (sylwester.arabas@agh.edu.pl) & Emma Ware (ecware@ucdavis.edu)\n",
        "\n",
        "Jakub Kubicki (jakubkubicki@student.agh.edu.pl)"
      ]
    },
    {
      "cell_type": "markdown",
      "metadata": {
        "id": "5RsKpPYm3Gkb"
      },
      "source": [
        "**1. particle-resolved random-sampled state representation for an advection problem**"
      ]
    },
    {
      "cell_type": "code",
      "source": [
        "!pip install open_atmos_jupyter_utils"
      ],
      "metadata": {
        "id": "hwrao3of3RUx"
      },
      "execution_count": null,
      "outputs": []
    },
    {
      "cell_type": "code",
      "execution_count": null,
      "metadata": {
        "id": "KAXs1SvE3Gkc"
      },
      "outputs": [],
      "source": [
        "\"\"\" notebook code targetting 100% `nbqa pylint` score! :) \"\"\"\n",
        "\n",
        "from types import SimpleNamespace\n",
        "import numpy as np\n",
        "from matplotlib import pyplot\n",
        "import scipy\n",
        "from open_atmos_jupyter_utils import show_plot"
      ]
    },
    {
      "cell_type": "code",
      "execution_count": null,
      "metadata": {
        "id": "as7kh9p33Gkd"
      },
      "outputs": [],
      "source": [
        "PARAMS_P = SimpleNamespace(\n",
        "    n_part=1000,\n",
        "    norm=1e10,\n",
        "    dist=scipy.stats.norm(loc=250, scale=50),\n",
        ")\n",
        "\n",
        "PARAMS_X = SimpleNamespace(\n",
        "    span=1000,\n",
        "    n_cell=50,\n",
        ")\n",
        "PARAMS_X.step = PARAMS_X.span / PARAMS_X.n_cell\n",
        "\n",
        "RNG = np.random.default_rng(seed=44)"
      ]
    },
    {
      "cell_type": "code",
      "execution_count": null,
      "metadata": {
        "id": "mfLGzK2V3Gke"
      },
      "outputs": [],
      "source": [
        "def sample(*, params_p, params_x, rng):\n",
        "    \"\"\" samples a particle population specified onto a grid and returns\n",
        "    a collection indexed by sampling type, with values composed of `cell` and `mult`\n",
        "    integer-valued arrays with cell IDs and multiplicities, respectively \"\"\"\n",
        "    u01 = rng.uniform(0, 1, params_p.n_part)\n",
        "    return {\n",
        "        k: {\n",
        "            'cell': (v['cell'] / params_x.step).astype(int),\n",
        "            'mult': np.round(v['mult'] * params_p.norm).astype(int),\n",
        "        }\n",
        "        for k,v in\n",
        "        {\n",
        "            'sampling: uniform random in x': {\n",
        "                'cell': u01*params_x.span,\n",
        "                'mult': params_p.dist.pdf(u01 * params_x.span)*params_x.span/params_p.n_part,\n",
        "            },\n",
        "            'sampling: constant multiplicity': {\n",
        "                'cell': params_p.dist.ppf(u01),\n",
        "                'mult': np.full_like(u01,1)/params_p.n_part,\n",
        "            }\n",
        "        }.items()\n",
        "    }\n",
        "\n",
        "PARTICLES = sample(params_p=PARAMS_P, params_x=PARAMS_X, rng=RNG)\n",
        "print(PARTICLES)"
      ]
    },
    {
      "cell_type": "code",
      "execution_count": null,
      "metadata": {
        "id": "YT2ghFLS3Gke"
      },
      "outputs": [],
      "source": [
        "def plot(*, particles, params_p, params_x, rng, title='', shift=0):\n",
        "    \"\"\" plots the particle state as both a histogram as well as population scatter plot\n",
        "    (with random coordinates shuffled for the purpose of plotting) \"\"\"\n",
        "    _, axs = pyplot.subplot_mosaic(\n",
        "        [['hist'], ['part']],\n",
        "        figsize=(11, 6),\n",
        "        sharex=True,\n",
        "        tight_layout=True,\n",
        "    )\n",
        "    u01 = rng.uniform(0, 1, params_p.n_part)\n",
        "    scale = params_p.norm / params_p.n_part\n",
        "    for k in particles:\n",
        "        axs['hist'].hist(\n",
        "            x=particles[k]['cell'],\n",
        "            weights=particles[k]['mult'] / params_p.norm,\n",
        "            bins=params_x.n_cell,\n",
        "            range=(0, params_x.n_cell),\n",
        "            label=f'{k}',\n",
        "            alpha=.666\n",
        "        )\n",
        "        axs['part'].scatter(\n",
        "            particles[k]['cell'] + u01,\n",
        "            tuple(reversed(u01)),\n",
        "            s=.25 + 2 * particles[k]['mult'] / scale\n",
        "        )\n",
        "    pdf_x = np.linspace(0, params_x.span, 256)\n",
        "    pdf_y = params_p.dist.pdf(pdf_x - shift)\n",
        "    axs['hist'].plot(pdf_x / params_x.step, pdf_y * params_x.step, color='black', label='analytic')\n",
        "    axs['hist'].set_xlim(0, params_x.n_cell)\n",
        "    axs['hist'].legend()\n",
        "    axs['hist'].set_ylabel('pdf(x) ⋅ Δx [1]')\n",
        "    axs['hist'].set_title(title or f'{params_p.n_part=}   {params_x.n_cell=}')\n",
        "    axs['part'].set_xticks(np.arange(params_x.n_cell + 1))\n",
        "    axs['part'].xaxis.set_tick_params(rotation=75)\n",
        "    axs['part'].set_xlabel('x / Δx [1]')\n",
        "    axs['part'].set_yticks([])\n",
        "    axs['part'].set_ylim(0,1)\n",
        "    for axes in axs.values():\n",
        "        axes.grid()\n",
        "    show_plot()\n",
        "\n",
        "plot(particles=PARTICLES, params_p=PARAMS_P, params_x=PARAMS_X, rng=RNG)"
      ]
    },
    {
      "cell_type": "markdown",
      "metadata": {
        "id": "--W1wYLT3Gkg"
      },
      "source": [
        "**2. Monte-Carlo representation of advection dynamics**"
      ]
    },
    {
      "cell_type": "code",
      "execution_count": null,
      "metadata": {
        "id": "ySqGk_sU3Gki"
      },
      "outputs": [],
      "source": [
        "PARAMS_T = SimpleNamespace(\n",
        "    span = 300,\n",
        "    n_step = 30,\n",
        "    wind = 1.5\n",
        ")\n",
        "PARAMS_T.step = PARAMS_T.span / PARAMS_T.n_step\n",
        "PARAMS_T.courant_number = PARAMS_T.wind / PARAMS_X.step * PARAMS_T.step"
      ]
    },
    {
      "cell_type": "code",
      "execution_count": null,
      "metadata": {
        "id": "1BkTxg4w3Gkj"
      },
      "outputs": [],
      "source": [
        "def advect(*, params_p, params_t, particles, rng):\n",
        "    \"\"\" performs Monte-Carlo advection of the particles \"\"\"\n",
        "    probability_of_shift = abs(params_t.courant_number)\n",
        "    assert probability_of_shift < 1\n",
        "\n",
        "    for _ in range(params_t.n_step):\n",
        "        u01 = rng.uniform(0, 1, params_p.n_part)\n",
        "        for part in particles.values():\n",
        "            part['cell'] += np.where(probability_of_shift > u01 , 1, 0) * int((abs(params_t.courant_number)/params_t.courant_number))\n",
        "\n",
        "        pass\n",
        "advect(particles=PARTICLES, params_t=PARAMS_T, params_p=PARAMS_P, rng=RNG)"
      ]
    },
    {
      "cell_type": "code",
      "execution_count": null,
      "metadata": {
        "id": "xSE55REQ3Gkl"
      },
      "outputs": [],
      "source": [
        "plot(\n",
        "    particles=PARTICLES,\n",
        "    params_x=PARAMS_X,\n",
        "    params_p=PARAMS_P,\n",
        "    rng=RNG,\n",
        "    shift=PARAMS_T.wind * PARAMS_T.span,\n",
        "    title=f'{PARAMS_T.courant_number=:.3g}  {PARAMS_T.span=}'\n",
        ")"
      ]
    },
    {
      "cell_type": "markdown",
      "source": [
        "# 2 dimensional result\n",
        "\n",
        "Below we would like to implement solution for 2 dimensions"
      ],
      "metadata": {
        "id": "Obo6OHNgqvaK"
      }
    },
    {
      "cell_type": "code",
      "execution_count": null,
      "metadata": {
        "id": "yHRyQZJv3Gkm"
      },
      "outputs": [],
      "source": [
        "PARAMS_X = SimpleNamespace(\n",
        "    span_x=1000,  # Length of the x-direction\n",
        "    n_cell_x=50,  # Number of cells in the x-direction\n",
        ")\n",
        "PARAMS_Y = SimpleNamespace(\n",
        "    span_y=1000,  # Length of the y-direction\n",
        "    n_cell_y=50,  # Number of cells in the y-direction\n",
        ")\n",
        "PARAMS_X.step_x = PARAMS_X.span_x / PARAMS_X.n_cell_x\n",
        "PARAMS_Y.step_y = PARAMS_Y.span_y / PARAMS_Y.n_cell_y\n",
        "\n",
        "def sample_2d(*, params_p, params_x, params_y, rng):\n",
        "    \"\"\" Samples a 2D particle population specified onto a grid and returns\n",
        "    a collection indexed by sampling type, with values composed of `cell` (x, y coordinates)\n",
        "    and multiplicities \"\"\"\n",
        "\n",
        "    # Sample for x and y dimensions\n",
        "    u01 = rng.uniform(0, 1, params_p.n_part)\n",
        "    u02 = rng.uniform(0, 1, params_p.n_part)  # Second uniform for y dimension\n",
        "\n",
        "    return {\n",
        "        k: {\n",
        "            'cell': ((v['cell_x']/ params_x.step_x).astype(int), (v['cell_y']/ params_y.step_y).astype(int)),  # Combine x and y coordinates into a single 2D array\n",
        "            'mult': np.round(v['mult'] * params_p.norm).astype(int),\n",
        "        }\n",
        "        for k, v in {\n",
        "            'sampling: uniform random in x and y': {\n",
        "                'cell_x': u01*params_x.span_x,  # x coordinates\n",
        "                'cell_y': u01*params_y.span_y,  # y coordinates\n",
        "                'mult': params_p.dist.pdf(u01 * params_x.span_x)*params_x.span_x/params_p.n_part +\n",
        "                        params_p.dist.pdf(u02 * params_y.span_y)*params_y.span_y/params_p.n_part,\n",
        "            },\n",
        "            'sampling: constant multiplicity': {\n",
        "                'cell_x': params_p.dist.ppf(u01),  # x coordinates\n",
        "                'cell_y': params_p.dist.ppf(u02),  # y coordinates\n",
        "                'mult': np.full_like(u01, 1) / params_p.n_part,  # Uniform multiplicity\n",
        "            }\n",
        "        }.items()\n",
        "    }\n",
        "\n",
        "# Sample particles in 2D\n",
        "PARTICLES_2D = sample_2d(params_p=PARAMS_P, params_x=PARAMS_X, params_y=PARAMS_Y, rng=RNG)\n"
      ]
    },
    {
      "cell_type": "markdown",
      "source": [
        "function `sample_2d` creates sample enviroment with parcticles in 2 dimensions - x and y.\n",
        "\n"
      ],
      "metadata": {
        "id": "l_on8E5utc4D"
      }
    },
    {
      "cell_type": "code",
      "source": [
        "PARAMS_X = SimpleNamespace(\n",
        "    span_x=1000,  # Length of the x-direction\n",
        "    n_cell_x=50,  # Number of cells in the x-direction\n",
        ")\n",
        "PARAMS_Y = SimpleNamespace(\n",
        "    span_y=1000,  # Length of the y-direction\n",
        "    n_cell_y=50,  # Number of cells in the y-direction\n",
        ")\n",
        "PARAMS_X.step_x = PARAMS_X.span_x / PARAMS_X.n_cell_x\n",
        "PARAMS_Y.step_y = PARAMS_Y.span_y / PARAMS_Y.n_cell_y\n",
        "\n",
        "def sample_2d(*, params_p, params_x, params_y, rng):\n",
        "    \"\"\" Samples a 2D particle population on the grid. \"\"\"\n",
        "    u01_x = rng.uniform(0, 1, params_p.n_part)\n",
        "    u01_y = rng.uniform(0, 1, params_p.n_part)\n",
        "    return {\n",
        "        k: {\n",
        "            'cell_x': (v['cell_x'] / params_x.step_x).astype(int),\n",
        "            'cell_y': (v['cell_y'] / params_y.step_y).astype(int),\n",
        "            'mult_x': np.round(v['mult_x'] * params_p.norm).astype(int),\n",
        "            'mult_y': np.round(v['mult_y'] * params_p.norm).astype(int),\n",
        "\n",
        "        }\n",
        "        for k, v in {\n",
        "            'sampling: uniform random in x and y': {\n",
        "                'cell_x': u01_x * params_x.span_x,\n",
        "                'cell_y': u01_y * params_y.span_y,\n",
        "                'mult_x': params_p.dist.pdf(u01_x * params_x.span_x) * params_x.span_x / params_p.n_part,\n",
        "                'mult_y': params_p.dist.pdf(u01_y * params_y.span_y) * params_y.span_y / params_p.n_part,\n",
        "\n",
        "            },\n",
        "            'sampling: constant multiplicity': {\n",
        "                'cell_x': params_p.dist.ppf(u01_x),\n",
        "                'cell_y': params_p.dist.ppf(u01_y),\n",
        "                'mult_x': np.full_like(u01_x, 1) / params_p.n_part,\n",
        "                'mult_y': np.full_like(u01_y, 1) / params_p.n_part,\n",
        "            }\n",
        "        }.items()\n",
        "    }\n",
        "\n",
        "PARTICLES_2D = sample_2d(params_p=PARAMS_P, params_x=PARAMS_X, params_y=PARAMS_Y, rng=RNG)\n"
      ],
      "metadata": {
        "id": "fXy5-gAWjWhk"
      },
      "execution_count": null,
      "outputs": []
    },
    {
      "cell_type": "markdown",
      "source": [
        "simple function `plot_2d` plots density of particles numbers sepeartely for x and y dimension"
      ],
      "metadata": {
        "id": "u9vH0JhDtt4t"
      }
    },
    {
      "cell_type": "code",
      "source": [
        "def plot_2d(*, particles, params_p, params_x, params_y,  rng, title='', shift=0):\n",
        "    \"\"\" Plots the particle state in 2D. \"\"\"\n",
        "    # Adjust the layout for subplot_mosaic to have the same number of columns in each row\n",
        "    _, axs = pyplot.subplot_mosaic(\n",
        "        [['hist_x', 'hist_y'], ['part_x', 'part_y']],\n",
        "        figsize=(11, 6),\n",
        "        sharex=True,\n",
        "        tight_layout=True,\n",
        "    )\n",
        "\n",
        "    u01 = rng.uniform(0, 1, params_p.n_part)\n",
        "    scale = params_p.norm / params_p.n_part\n",
        "\n",
        "    # Plotting for each particle sampling method\n",
        "    for k in particles:\n",
        "        # Histograms for x and y dimensions\n",
        "        axs['hist_x'].hist(\n",
        "            x=particles[k]['cell_x'],\n",
        "            weights=particles[k]['mult_x'] / params_p.norm,\n",
        "            bins=params_x.n_cell_x,\n",
        "            range=(0, params_x.n_cell_x),\n",
        "            label=f'{k}',\n",
        "            alpha=.666\n",
        "        )\n",
        "        axs['hist_y'].hist(\n",
        "            x=particles[k]['cell_y'],\n",
        "            weights=particles[k]['mult_y'] / params_p.norm,\n",
        "            bins=params_y.n_cell_y,\n",
        "            range=(0, params_y.n_cell_y),\n",
        "            label=f'{k}',\n",
        "            alpha=.666\n",
        "        )\n",
        "\n",
        "        # Scatter plot for particles in 2D\n",
        "        axs['part_x'].scatter(\n",
        "            particles[k]['cell_x'] + u01,\n",
        "            tuple(reversed(u01)),\n",
        "            s=.25 + 2 * particles[k]['mult_x'] / scale\n",
        "        )\n",
        "        axs['part_y'].scatter(\n",
        "            particles[k]['cell_y'] + u01,\n",
        "            tuple(reversed(u01)),\n",
        "            s=.25 + 2 * particles[k]['mult_y'] / scale\n",
        "        )\n",
        "\n",
        "    # Set axis limits and titles for histograms\n",
        "    axs['hist_x'].set_xlim(0, params_x.n_cell_x)\n",
        "    axs['hist_y'].set_xlim(0, params_y.n_cell_y)\n",
        "    axs['hist_x'].set_ylabel('pdf(x) ⋅ Δx [1]')\n",
        "    axs['hist_y'].set_ylabel('pdf(x) ⋅ Δy [1]')\n",
        "\n",
        "\n",
        "    axs['part_x'].set_xticks(np.arange(params_x.n_cell_x + 1))\n",
        "    axs['part_y'].set_yticks(np.arange(params_y.n_cell_y + 1))\n",
        "    axs['part_x'].set_xlabel('x / Δx [1]')\n",
        "    axs['part_y'].set_xlabel('y / Δy [1]')\n",
        "    axs['part_x'].set_ylim(0, 1)\n",
        "    axs['part_y'].set_ylim(0, 1)\n",
        "    axs['part_x'].xaxis.set_tick_params(rotation=75)\n",
        "    axs['part_y'].xaxis.set_tick_params(rotation=75)\n",
        "    axs['part_x'].set_yticks([])\n",
        "    axs['part_y'].set_yticks([])\n",
        "\n",
        "\n",
        "    for axes in axs.values():\n",
        "        axes.grid()\n",
        "\n",
        "    # Adding legends and titles\n",
        "    axs['hist_x'].legend()\n",
        "    axs['hist_y'].legend()\n",
        "    axs['hist_x'].set_title(title or f'{params_p.n_part=}   {params_x.n_cell_x=}')\n",
        "    axs['hist_y'].set_title(title or f'{params_p.n_part=}   {params_y.n_cell_y=}')\n",
        "\n",
        "\n",
        "\n",
        "    show_plot()\n",
        "\n",
        "# Plotting the 2D particles\n",
        "plot_2d(particles=PARTICLES_2D, params_p=PARAMS_P, params_x=PARAMS_X, params_y=PARAMS_Y, rng=RNG)\n"
      ],
      "metadata": {
        "id": "6dxfG0tWduhO"
      },
      "execution_count": null,
      "outputs": []
    },
    {
      "cell_type": "markdown",
      "source": [
        "function `one_plot_2d` plots particles position on one plot"
      ],
      "metadata": {
        "id": "PWAL1ivruBsA"
      }
    },
    {
      "cell_type": "code",
      "source": [
        "def one_plot_2d(*, particles, params_p, params_x, params_y, rng, title='', shift=0):\n",
        "    \"\"\" Plots the particle state in a single 2D scatter plot with x/y as grid coordinates. \"\"\"\n",
        "    import matplotlib.pyplot as plt\n",
        "\n",
        "    fig, ax = plt.subplots(figsize=(8, 6))\n",
        "    u01 = rng.uniform(0, 1, params_p.n_part)\n",
        "    scale = params_p.norm / params_p.n_part\n",
        "\n",
        "    for label, data in particles.items():\n",
        "        x = data['cell_x']\n",
        "        y = data['cell_y']\n",
        "\n",
        "        # Combine multiplicities\n",
        "        mult = np.sqrt(data['mult_x'] * data['mult_y'])\n",
        "\n",
        "        ax.scatter(\n",
        "            x + u01,\n",
        "            y + u01,\n",
        "            s=0.5 + 2 * mult / scale,\n",
        "            alpha=0.6,\n",
        "            label=label\n",
        "        )\n",
        "\n",
        "    ax.set_xlim(0, params_x.n_cell_x)\n",
        "    ax.set_ylim(0, params_y.n_cell_y)\n",
        "    ax.set_xticks(np.arange(params_x.n_cell_x + 1))\n",
        "    ax.set_yticks(np.arange(params_y.n_cell_y + 1))\n",
        "    ax.set_xlabel('x')\n",
        "    ax.set_ylabel('y')\n",
        "    ax.set_title(title or f'2D particle ({params_p.n_part=})')\n",
        "    ax.grid(True)\n",
        "    ax.legend()\n",
        "    plt.tight_layout()\n",
        "    plt.show()\n",
        "\n",
        "one_plot_2d(\n",
        "    particles=PARTICLES_2D,\n",
        "    params_p=PARAMS_P,\n",
        "    params_x=PARAMS_X,\n",
        "    params_y=PARAMS_Y,\n",
        "    rng=RNG)"
      ],
      "metadata": {
        "id": "ludzx9Z-rcE2"
      },
      "execution_count": null,
      "outputs": []
    },
    {
      "cell_type": "code",
      "source": [
        "PARAMS_T = SimpleNamespace(\n",
        "    span_x = 300,\n",
        "    span_y = 300,\n",
        "    n_step = 30,\n",
        "    wind_x = 1.5,  # Advection speed in x direction\n",
        "    wind_y = 0.5   # Advection speed in y direction\n",
        ")\n",
        "PARAMS_T.step_x = PARAMS_T.span_x / PARAMS_T.n_step\n",
        "PARAMS_T.step_y = PARAMS_T.span_y / PARAMS_T.n_step\n",
        "PARAMS_T.courant_number_x = PARAMS_T.wind_x / PARAMS_X.step_x * PARAMS_T.step_x\n",
        "PARAMS_T.courant_number_y = PARAMS_T.wind_y / PARAMS_Y.step_y * PARAMS_T.step_y\n",
        "\n",
        "def advect_2d(*, params_p, params_t, particles, rng):\n",
        "    \"\"\" Performs Monte-Carlo advection in 2D \"\"\"\n",
        "    probability_of_shift_x = abs(params_t.courant_number_x)\n",
        "    probability_of_shift_y = abs(params_t.courant_number_y)\n",
        "    assert probability_of_shift_x < 1 and probability_of_shift_y < 1\n",
        "\n",
        "    for _ in range(params_t.n_step):\n",
        "        u01 = rng.uniform(0, 1, params_p.n_part)\n",
        "        for part in particles.values():\n",
        "            # Shift particles in both x and y directions\n",
        "            part['cell_x'] += np.where(probability_of_shift_x > u01, 1, 0)\n",
        "            part['cell_y'] += np.where(probability_of_shift_y > u01, 1, 0)\n",
        "\n",
        "advect_2d(particles=PARTICLES_2D, params_t=PARAMS_T, params_p=PARAMS_P, rng=RNG)\n"
      ],
      "metadata": {
        "id": "WVN0554Odwee"
      },
      "execution_count": null,
      "outputs": []
    },
    {
      "cell_type": "code",
      "source": [
        "plot_2d(\n",
        "    particles=PARTICLES_2D,\n",
        "    params_p=PARAMS_P,\n",
        "    params_x=PARAMS_X,\n",
        "    params_y=PARAMS_Y,\n",
        "    rng=RNG,\n",
        "    shift=PARAMS_T.wind_x * PARAMS_T.span_x,\n",
        "    title=f'{PARAMS_T.courant_number_x=:.3g}  {PARAMS_T.courant_number_y=:.3g}'\n",
        ")\n"
      ],
      "metadata": {
        "id": "_BaGYJrvdzIi"
      },
      "execution_count": null,
      "outputs": []
    },
    {
      "cell_type": "code",
      "source": [
        "\n",
        "one_plot_2d(\n",
        "    particles=PARTICLES_2D,\n",
        "    params_p=PARAMS_P,\n",
        "    params_x=PARAMS_X,\n",
        "    params_y=PARAMS_Y,\n",
        "    rng=RNG,\n",
        "    shift=PARAMS_T.wind_x * PARAMS_T.span_x,\n",
        "    title=f'{PARAMS_T.courant_number_x=:.3g}  {PARAMS_T.courant_number_y=:.3g}'\n",
        ")"
      ],
      "metadata": {
        "id": "93PW2gDJtTR_"
      },
      "execution_count": null,
      "outputs": []
    },
    {
      "cell_type": "markdown",
      "source": [
        "Above we can see the final result after advection of particles at first separately for x and y dimension and for both on the second plot"
      ],
      "metadata": {
        "id": "YH4hM_eHupsZ"
      }
    }
  ],
  "metadata": {
    "kernelspec": {
      "display_name": "Python 3 (ipykernel)",
      "language": "python",
      "name": "python3"
    },
    "language_info": {
      "codemirror_mode": {
        "name": "ipython",
        "version": 3
      },
      "file_extension": ".py",
      "mimetype": "text/x-python",
      "name": "python",
      "nbconvert_exporter": "python",
      "pygments_lexer": "ipython3",
      "version": "3.9.2"
    },
    "colab": {
      "provenance": []
    }
  },
  "nbformat": 4,
  "nbformat_minor": 0
}