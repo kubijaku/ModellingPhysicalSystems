{
  "cells": [
    {
      "cell_type": "code",
      "execution_count": 11,
      "metadata": {
        "colab": {
          "base_uri": "https://localhost:8080/"
        },
        "id": "ovlbgtTBCaVo",
        "outputId": "8cd3791e-02ab-4f48-abd9-5fe5bbf9cbed"
      },
      "outputs": [],
      "source": [
        "!pip install pint open-atmos-jupyter-utils\n"
      ]
    },
    {
      "cell_type": "code",
      "execution_count": 2,
      "metadata": {
        "id": "ZxS8wbpSCd_r"
      },
      "outputs": [],
      "source": [
        "import pint\n",
        "si = pint.UnitRegistry()"
      ]
    },
    {
      "cell_type": "code",
      "execution_count": 3,
      "metadata": {
        "colab": {
          "base_uri": "https://localhost:8080/"
        },
        "id": "jVgZWOCGCeoW",
        "outputId": "fd2fc72c-c6b9-4341-865a-7e0f43cae798"
      },
      "outputs": [],
      "source": [
        "from scipy import constants\n",
        "R_star = constants.R * si.J / (si.K * si.mol)\n",
        "print(R_star)"
      ]
    },
    {
      "cell_type": "code",
      "execution_count": 4,
      "metadata": {
        "id": "yZwekwUoCneb"
      },
      "outputs": [],
      "source": [
        "T = 300 * si.K"
      ]
    },
    {
      "cell_type": "code",
      "execution_count": 5,
      "metadata": {
        "id": "w137NpOlDKyH"
      },
      "outputs": [],
      "source": [
        "p = 1000 * si.hPa\n",
        "Md =  28.966 * si.g / si.mol"
      ]
    },
    {
      "cell_type": "code",
      "execution_count": 6,
      "metadata": {
        "colab": {
          "base_uri": "https://localhost:8080/"
        },
        "id": "iThptsX6CrLz",
        "outputId": "f5a85678-a12f-474f-fb2d-6026a52f9b61"
      },
      "outputs": [],
      "source": [
        "density = p * Md / (R_star * T)\n",
        "print(density)"
      ]
    },
    {
      "cell_type": "code",
      "execution_count": 7,
      "metadata": {
        "colab": {
          "base_uri": "https://localhost:8080/",
          "height": 35
        },
        "id": "NCJV5omuEk1j",
        "outputId": "886824ed-1099-4ab2-f927-9dea7e97b95f"
      },
      "outputs": [],
      "source": [
        "density.check('[density]')\n",
        "f\"{density.to_base_units():.3g}\""
      ]
    },
    {
      "cell_type": "code",
      "execution_count": 8,
      "metadata": {
        "id": "Le1eBJybFZ17"
      },
      "outputs": [],
      "source": [
        "import numpy as np\n",
        "\n",
        "def tetens_formula(T):\n",
        "    \"\"\"\n",
        "    Calculate the saturation vapor pressure (kPa) using Tetens' formula.\n",
        "\n",
        "    Parameters:\n",
        "    T (float): Temperature in Kelvin.\n",
        "\n",
        "    Returns:\n",
        "    float: Saturation vapor pressure in kilopascals (kPa).\n",
        "    \"\"\"\n",
        "    TC = T - constants.zero_Celsius * si.K\n",
        "    return 0.6108 * si.kPa * np.exp((17.27 * TC) / (TC + 237.3 * si.K))"
      ]
    },
    {
      "cell_type": "code",
      "execution_count": 12,
      "metadata": {
        "colab": {
          "base_uri": "https://localhost:8080/",
          "height": 467,
          "referenced_widgets": [
            "ac8b1b7ad9824a99b81943600bbde941",
            "a724a0f191fc42b4911ecbdf42c58a72",
            "feb6a28d00df473d9183de90cc7d9ce8",
            "e14d18469af94f5496f32bd154030d8f",
            "02cd8558b8154619aae9d47427ad636d",
            "5769f9e06f3747e58c814df5b0e84991",
            "8df4865428a74b4f83641c9370b666d2",
            "998180e7e4184c17a949c25a978ecce8"
          ]
        },
        "id": "NaH9eOJoG4l8",
        "outputId": "1d82f1ef-5b17-4462-d751-78300d025e43"
      },
      "outputs": [],
      "source": [
        "from matplotlib import pyplot\n",
        "from open_atmos_jupyter_utils import show_plot\n",
        "\n",
        "si.setup_matplotlib()\n",
        "\n",
        "T = np.linspace(250, 320) * si.K\n",
        "pyplot.plot(T, tetens_formula(T), label = \"tetens\")\n",
        "pyplot.legend()\n",
        "show_plot()\n"
      ]
    }
  ],
  "metadata": {
    "colab": {
      "provenance": [],
      "toc_visible": true
    },
    "kernelspec": {
      "display_name": "Python 3",
      "name": "python3"
    },
    "widgets": {
      "application/vnd.jupyter.widget-state+json": {
        "02cd8558b8154619aae9d47427ad636d": {
          "model_module": "@jupyter-widgets/base",
          "model_module_version": "1.2.0",
          "model_name": "LayoutModel",
          "state": {
            "_model_module": "@jupyter-widgets/base",
            "_model_module_version": "1.2.0",
            "_model_name": "LayoutModel",
            "_view_count": null,
            "_view_module": "@jupyter-widgets/base",
            "_view_module_version": "1.2.0",
            "_view_name": "LayoutView",
            "align_content": null,
            "align_items": null,
            "align_self": null,
            "border": null,
            "bottom": null,
            "display": null,
            "flex": null,
            "flex_flow": null,
            "grid_area": null,
            "grid_auto_columns": null,
            "grid_auto_flow": null,
            "grid_auto_rows": null,
            "grid_column": null,
            "grid_gap": null,
            "grid_row": null,
            "grid_template_areas": null,
            "grid_template_columns": null,
            "grid_template_rows": null,
            "height": null,
            "justify_content": null,
            "justify_items": null,
            "left": null,
            "margin": null,
            "max_height": null,
            "max_width": null,
            "min_height": null,
            "min_width": null,
            "object_fit": null,
            "object_position": null,
            "order": null,
            "overflow": null,
            "overflow_x": null,
            "overflow_y": null,
            "padding": null,
            "right": null,
            "top": null,
            "visibility": null,
            "width": null
          }
        },
        "5769f9e06f3747e58c814df5b0e84991": {
          "model_module": "@jupyter-widgets/controls",
          "model_module_version": "1.5.0",
          "model_name": "ButtonStyleModel",
          "state": {
            "_model_module": "@jupyter-widgets/controls",
            "_model_module_version": "1.5.0",
            "_model_name": "ButtonStyleModel",
            "_view_count": null,
            "_view_module": "@jupyter-widgets/base",
            "_view_module_version": "1.2.0",
            "_view_name": "StyleView",
            "button_color": null,
            "font_weight": ""
          }
        },
        "8df4865428a74b4f83641c9370b666d2": {
          "model_module": "@jupyter-widgets/base",
          "model_module_version": "1.2.0",
          "model_name": "LayoutModel",
          "state": {
            "_model_module": "@jupyter-widgets/base",
            "_model_module_version": "1.2.0",
            "_model_name": "LayoutModel",
            "_view_count": null,
            "_view_module": "@jupyter-widgets/base",
            "_view_module_version": "1.2.0",
            "_view_name": "LayoutView",
            "align_content": null,
            "align_items": null,
            "align_self": null,
            "border": null,
            "bottom": null,
            "display": null,
            "flex": null,
            "flex_flow": null,
            "grid_area": null,
            "grid_auto_columns": null,
            "grid_auto_flow": null,
            "grid_auto_rows": null,
            "grid_column": null,
            "grid_gap": null,
            "grid_row": null,
            "grid_template_areas": null,
            "grid_template_columns": null,
            "grid_template_rows": null,
            "height": null,
            "justify_content": null,
            "justify_items": null,
            "left": null,
            "margin": null,
            "max_height": null,
            "max_width": null,
            "min_height": null,
            "min_width": null,
            "object_fit": null,
            "object_position": null,
            "order": null,
            "overflow": null,
            "overflow_x": null,
            "overflow_y": null,
            "padding": null,
            "right": null,
            "top": null,
            "visibility": null,
            "width": null
          }
        },
        "998180e7e4184c17a949c25a978ecce8": {
          "model_module": "@jupyter-widgets/controls",
          "model_module_version": "1.5.0",
          "model_name": "ButtonStyleModel",
          "state": {
            "_model_module": "@jupyter-widgets/controls",
            "_model_module_version": "1.5.0",
            "_model_name": "ButtonStyleModel",
            "_view_count": null,
            "_view_module": "@jupyter-widgets/base",
            "_view_module_version": "1.2.0",
            "_view_name": "StyleView",
            "button_color": null,
            "font_weight": ""
          }
        },
        "a724a0f191fc42b4911ecbdf42c58a72": {
          "model_module": "@jupyter-widgets/controls",
          "model_module_version": "1.5.0",
          "model_name": "ButtonModel",
          "state": {
            "_dom_classes": [],
            "_model_module": "@jupyter-widgets/controls",
            "_model_module_version": "1.5.0",
            "_model_name": "ButtonModel",
            "_view_count": null,
            "_view_module": "@jupyter-widgets/controls",
            "_view_module_version": "1.5.0",
            "_view_name": "ButtonView",
            "button_style": "",
            "description": "tmpc1tedsnh.pdf",
            "disabled": false,
            "icon": "",
            "layout": "IPY_MODEL_02cd8558b8154619aae9d47427ad636d",
            "style": "IPY_MODEL_5769f9e06f3747e58c814df5b0e84991",
            "tooltip": ""
          }
        },
        "ac8b1b7ad9824a99b81943600bbde941": {
          "model_module": "@jupyter-widgets/controls",
          "model_module_version": "1.5.0",
          "model_name": "HBoxModel",
          "state": {
            "_dom_classes": [],
            "_model_module": "@jupyter-widgets/controls",
            "_model_module_version": "1.5.0",
            "_model_name": "HBoxModel",
            "_view_count": null,
            "_view_module": "@jupyter-widgets/controls",
            "_view_module_version": "1.5.0",
            "_view_name": "HBoxView",
            "box_style": "",
            "children": [
              "IPY_MODEL_a724a0f191fc42b4911ecbdf42c58a72",
              "IPY_MODEL_feb6a28d00df473d9183de90cc7d9ce8"
            ],
            "layout": "IPY_MODEL_e14d18469af94f5496f32bd154030d8f"
          }
        },
        "e14d18469af94f5496f32bd154030d8f": {
          "model_module": "@jupyter-widgets/base",
          "model_module_version": "1.2.0",
          "model_name": "LayoutModel",
          "state": {
            "_model_module": "@jupyter-widgets/base",
            "_model_module_version": "1.2.0",
            "_model_name": "LayoutModel",
            "_view_count": null,
            "_view_module": "@jupyter-widgets/base",
            "_view_module_version": "1.2.0",
            "_view_name": "LayoutView",
            "align_content": null,
            "align_items": null,
            "align_self": null,
            "border": null,
            "bottom": null,
            "display": null,
            "flex": null,
            "flex_flow": null,
            "grid_area": null,
            "grid_auto_columns": null,
            "grid_auto_flow": null,
            "grid_auto_rows": null,
            "grid_column": null,
            "grid_gap": null,
            "grid_row": null,
            "grid_template_areas": null,
            "grid_template_columns": null,
            "grid_template_rows": null,
            "height": null,
            "justify_content": null,
            "justify_items": null,
            "left": null,
            "margin": null,
            "max_height": null,
            "max_width": null,
            "min_height": null,
            "min_width": null,
            "object_fit": null,
            "object_position": null,
            "order": null,
            "overflow": null,
            "overflow_x": null,
            "overflow_y": null,
            "padding": null,
            "right": null,
            "top": null,
            "visibility": null,
            "width": null
          }
        },
        "feb6a28d00df473d9183de90cc7d9ce8": {
          "model_module": "@jupyter-widgets/controls",
          "model_module_version": "1.5.0",
          "model_name": "ButtonModel",
          "state": {
            "_dom_classes": [],
            "_model_module": "@jupyter-widgets/controls",
            "_model_module_version": "1.5.0",
            "_model_name": "ButtonModel",
            "_view_count": null,
            "_view_module": "@jupyter-widgets/controls",
            "_view_module_version": "1.5.0",
            "_view_name": "ButtonView",
            "button_style": "",
            "description": "tmp1b0v5thc.svg",
            "disabled": false,
            "icon": "",
            "layout": "IPY_MODEL_8df4865428a74b4f83641c9370b666d2",
            "style": "IPY_MODEL_998180e7e4184c17a949c25a978ecce8",
            "tooltip": ""
          }
        }
      }
    }
  },
  "nbformat": 4,
  "nbformat_minor": 0
}
