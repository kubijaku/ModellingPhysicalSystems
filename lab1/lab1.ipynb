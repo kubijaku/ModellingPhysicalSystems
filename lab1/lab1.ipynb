{
  "cells": [
    {
      "cell_type": "code",
      "source": [
        "!pip install pint\n"
      ],
      "metadata": {
        "id": "ovlbgtTBCaVo",
        "outputId": "e9b13272-391a-42a0-c5ae-9f0799cd1e21",
        "colab": {
          "base_uri": "https://localhost:8080/"
        }
      },
      "execution_count": null,
      "outputs": [
        {
          "output_type": "stream",
          "name": "stdout",
          "text": [
            "Collecting pint\n",
            "  Downloading Pint-0.24.4-py3-none-any.whl.metadata (8.5 kB)\n",
            "Requirement already satisfied: platformdirs>=2.1.0 in /usr/local/lib/python3.11/dist-packages (from pint) (4.3.6)\n",
            "Requirement already satisfied: typing-extensions>=4.0.0 in /usr/local/lib/python3.11/dist-packages (from pint) (4.12.2)\n",
            "Collecting flexcache>=0.3 (from pint)\n",
            "  Downloading flexcache-0.3-py3-none-any.whl.metadata (7.0 kB)\n",
            "Collecting flexparser>=0.4 (from pint)\n",
            "  Downloading flexparser-0.4-py3-none-any.whl.metadata (18 kB)\n",
            "Downloading Pint-0.24.4-py3-none-any.whl (302 kB)\n",
            "\u001b[2K   \u001b[90m━━━━━━━━━━━━━━━━━━━━━━━━━━━━━━━━━━━━━━━━\u001b[0m \u001b[32m302.0/302.0 kB\u001b[0m \u001b[31m4.8 MB/s\u001b[0m eta \u001b[36m0:00:00\u001b[0m\n",
            "\u001b[?25hDownloading flexcache-0.3-py3-none-any.whl (13 kB)\n",
            "Downloading flexparser-0.4-py3-none-any.whl (27 kB)\n",
            "Installing collected packages: flexparser, flexcache, pint\n",
            "Successfully installed flexcache-0.3 flexparser-0.4 pint-0.24.4\n"
          ]
        }
      ]
    },
    {
      "cell_type": "code",
      "source": [
        "import pint\n",
        "si = pint.UnitRegistry()"
      ],
      "metadata": {
        "id": "ZxS8wbpSCd_r"
      },
      "execution_count": null,
      "outputs": []
    },
    {
      "cell_type": "code",
      "source": [
        "from scipy import constants\n",
        "R_star = constants.R * si.J / (si.K * si.mol)\n",
        "print(R_star)"
      ],
      "metadata": {
        "id": "jVgZWOCGCeoW",
        "outputId": "e03415ca-3fff-48b2-f712-2b84287b3fb5",
        "colab": {
          "base_uri": "https://localhost:8080/"
        }
      },
      "execution_count": null,
      "outputs": [
        {
          "output_type": "stream",
          "name": "stdout",
          "text": [
            "8.314462618 joule / kelvin / mole\n"
          ]
        }
      ]
    },
    {
      "cell_type": "code",
      "source": [
        "T = 300 * si.K"
      ],
      "metadata": {
        "id": "yZwekwUoCneb"
      },
      "execution_count": null,
      "outputs": []
    },
    {
      "cell_type": "code",
      "source": [
        "p = 1000 * si.hPa\n",
        "Md =  28.966 * si.g / si.mol"
      ],
      "metadata": {
        "id": "w137NpOlDKyH"
      },
      "execution_count": null,
      "outputs": []
    },
    {
      "cell_type": "code",
      "source": [
        "density = p * Md / (R_star * T)\n",
        "print(density)"
      ],
      "metadata": {
        "id": "iThptsX6CrLz",
        "colab": {
          "base_uri": "https://localhost:8080/"
        },
        "outputId": "bc6aebce-c95f-4ea4-d4ba-10a54425bb86"
      },
      "execution_count": null,
      "outputs": [
        {
          "output_type": "stream",
          "name": "stdout",
          "text": [
            "11.612696787439369 gram * hectopascal / joule\n"
          ]
        }
      ]
    },
    {
      "cell_type": "code",
      "source": [
        "density.check('[density]')\n",
        "f\"{density.to_base_units():.3g}\""
      ],
      "metadata": {
        "colab": {
          "base_uri": "https://localhost:8080/",
          "height": 35
        },
        "id": "NCJV5omuEk1j",
        "outputId": "ab6e1f06-4d85-4fb4-99d3-1e73aee36529"
      },
      "execution_count": null,
      "outputs": [
        {
          "output_type": "execute_result",
          "data": {
            "text/plain": [
              "'1.16 kilogram / meter ** 3'"
            ],
            "application/vnd.google.colaboratory.intrinsic+json": {
              "type": "string"
            }
          },
          "metadata": {},
          "execution_count": 21
        }
      ]
    },
    {
      "cell_type": "code",
      "source": [
        "import numpy as np\n",
        "\n",
        "def tetens_formula(T):\n",
        "    \"\"\"\n",
        "    Calculate the saturation vapor pressure (kPa) using Tetens' formula.\n",
        "\n",
        "    Parameters:\n",
        "    T (float): Temperature in Kelvin.\n",
        "\n",
        "    Returns:\n",
        "    float: Saturation vapor pressure in kilopascals (kPa).\n",
        "    \"\"\"\n",
        "    TC = T - constants.zero_Celsius * si.K\n",
        "    return 0.6108 * si.kPa * np.exp((17.27 * TC) / (TC + 237.3 * si.K))"
      ],
      "metadata": {
        "id": "Le1eBJybFZ17"
      },
      "execution_count": null,
      "outputs": []
    },
    {
      "cell_type": "code",
      "source": [
        "from matplotlib import pyplot\n",
        "\n",
        "si.setup_matplotlib()\n",
        "\n",
        "T = np.linspace(250, 320) * si.K\n",
        "pyplot.plot(T, tetens_formula(T), label = \"tetens\")\n",
        "pyplot.legend()\n"
      ],
      "metadata": {
        "colab": {
          "base_uri": "https://localhost:8080/",
          "height": 466
        },
        "id": "NaH9eOJoG4l8",
        "outputId": "81228c0b-d5f8-459a-90a5-16a3b0582f9e"
      },
      "execution_count": null,
      "outputs": [
        {
          "output_type": "execute_result",
          "data": {
            "text/plain": [
              "<matplotlib.legend.Legend at 0x7f4abb746c50>"
            ]
          },
          "metadata": {},
          "execution_count": 28
        },
        {
          "output_type": "display_data",
          "data": {
            "text/plain": [
              "<Figure size 640x480 with 1 Axes>"
            ],
            "image/png": "[encoded data removed]"
          },
          "metadata": {}
        }
      ]
    }
  ],
  "metadata": {
    "colab": {
      "toc_visible": true,
      "provenance": []
    },
    "kernelspec": {
      "display_name": "Python 3",
      "name": "python3"
    }
  },
  "nbformat": 4,
  "nbformat_minor": 0
}